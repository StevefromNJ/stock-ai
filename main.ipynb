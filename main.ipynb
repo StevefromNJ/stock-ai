{
 "cells": [
  {
   "cell_type": "code",
   "execution_count": 20,
   "metadata": {},
   "outputs": [],
   "source": [
    "import bentoml\n",
    "import pandas as pd\n",
    "import numpy as np\n",
    "import matplotlib.pyplot as plt \n",
    "import seaborn as sns\n",
    "import sklearn.linear_model as skl\n",
    "from sklearn.feature_selection import VarianceThreshold\n",
    "from sklearn.model_selection import train_test_split\n",
    "from sklearn.ensemble import RandomForestRegressor\n",
    "from sklearn.ensemble import RandomForestClassifier\n",
    "from sklearn import linear_model\n",
    "from sklearn.metrics import mean_squared_error, r2_score\n",
    "\n",
    "from mlxtend.feature_selection import SequentialFeatureSelector\n",
    "import gc"
   ]
  },
  {
   "cell_type": "code",
   "execution_count": 2,
   "metadata": {},
   "outputs": [],
   "source": [
    "originalData = pd.read_csv('SP_SPX, 30.csv')\n",
    "rangeInDayList = []"
   ]
  },
  {
   "cell_type": "code",
   "execution_count": 3,
   "metadata": {},
   "outputs": [
    {
     "name": "stdout",
     "output_type": "stream",
     "text": [
      "Index(['open', 'high', 'low', 'close', 'SMA #2', 'SMA #3', 'VWAP'], dtype='object')\n"
     ]
    }
   ],
   "source": [
    "cleanData = originalData.dropna(axis = 1)\n",
    "cleanData = cleanData.drop('time', axis = 1)\n",
    "# cleanData = originalData\n",
    "\n",
    "#pop = originalData[['open', 'high', 'low', 'SMA #1', 'VWAP']]\n",
    "targetColumn = cleanData['SMA #1'] # SMA 1 will always be the 10 SMA\n",
    "cleanData = cleanData.drop('SMA #1', axis = 1)\n",
    "\n",
    "print(cleanData.keys())"
   ]
  },
  {
   "cell_type": "code",
   "execution_count": 4,
   "metadata": {},
   "outputs": [
    {
     "name": "stderr",
     "output_type": "stream",
     "text": [
      "\n",
      "[2024-03-04 19:05:46] Features: 1/6 -- score: 0.9978269040832372\n",
      "[2024-03-04 19:05:51] Features: 2/6 -- score: 0.9921841351227677\n",
      "[2024-03-04 19:05:56] Features: 3/6 -- score: 0.9931687534168606\n",
      "[2024-03-04 19:06:01] Features: 4/6 -- score: 0.9928322143770432\n",
      "[2024-03-04 19:06:06] Features: 5/6 -- score: 0.9919872557065199\n",
      "[2024-03-04 19:06:11] Features: 6/6 -- score: 0.9913123027363507"
     ]
    }
   ],
   "source": [
    "sel = VarianceThreshold(threshold=(.8 * (1 - .8)))\n",
    "varianceSelections = sel.fit_transform(cleanData)\n",
    "\n",
    "X = cleanData\n",
    "y = targetColumn\n",
    "\n",
    "X_Train, X_Test, Y_Train, Y_Test = train_test_split(X, y, test_size = .20, random_state = 100)\n",
    "forestRegressor = RandomForestRegressor(n_jobs = -1)\n",
    "\n",
    "forestRegressor.fit(X_Train, Y_Train)\n",
    "forestRegressor.score(X_Test, Y_Test)\n",
    "forwardFeatureSelection = SequentialFeatureSelector(forestRegressor,\n",
    "                                                    k_features = 2,\n",
    "                                                    forward = True,\n",
    "                                                    floating= True, \n",
    "                                                    verbose = 2,\n",
    "                                                    cv = 5\n",
    "                                                    ).fit(X_Train, Y_Train)"
   ]
  },
  {
   "cell_type": "code",
   "execution_count": 5,
   "metadata": {},
   "outputs": [
    {
     "data": {
      "text/plain": [
       "(0, 1, 3, 4, 5, 6)"
      ]
     },
     "execution_count": 5,
     "metadata": {},
     "output_type": "execute_result"
    }
   ],
   "source": [
    "forwardFeatureSelection.k_feature_idx_"
   ]
  },
  {
   "cell_type": "code",
   "execution_count": 6,
   "metadata": {},
   "outputs": [],
   "source": [
    "featureSelection = []\n",
    "\n",
    "for idx in forwardFeatureSelection.k_feature_idx_:\n",
    "    featureSelection.append(cleanData.keys()[idx])\n",
    "    "
   ]
  },
  {
   "cell_type": "code",
   "execution_count": 7,
   "metadata": {},
   "outputs": [
    {
     "data": {
      "text/plain": [
       "('open', 'high', 'close', 'SMA #2', 'SMA #3', 'VWAP')"
      ]
     },
     "execution_count": 7,
     "metadata": {},
     "output_type": "execute_result"
    }
   ],
   "source": [
    "forwardFeatureSelection.k_feature_names_"
   ]
  },
  {
   "cell_type": "code",
   "execution_count": 8,
   "metadata": {},
   "outputs": [],
   "source": [
    "\n",
    "X = cleanData[featureSelection]\n",
    "\n",
    "X_Train, X_Test, Y_Train, Y_Test = train_test_split(X, y, train_size = 0.8, test_size = .20, random_state = 100)\n",
    "\n",
    "X_Train, X_Valid, Y_Train, Y_Valid = train_test_split(X, y, train_size = 0.9, test_size = .10, random_state = 100)"
   ]
  },
  {
   "cell_type": "code",
   "execution_count": 9,
   "metadata": {},
   "outputs": [
    {
     "data": {
      "text/plain": [
       "((270, 6), (270,))"
      ]
     },
     "execution_count": 9,
     "metadata": {},
     "output_type": "execute_result"
    }
   ],
   "source": [
    "X_Train.shape, Y_Train.shape"
   ]
  },
  {
   "cell_type": "code",
   "execution_count": 10,
   "metadata": {},
   "outputs": [
    {
     "data": {
      "text/plain": [
       "((60, 6), (60,))"
      ]
     },
     "execution_count": 10,
     "metadata": {},
     "output_type": "execute_result"
    }
   ],
   "source": [
    "X_Test.shape, Y_Test.shape"
   ]
  },
  {
   "cell_type": "code",
   "execution_count": 11,
   "metadata": {},
   "outputs": [],
   "source": [
    "model = linear_model.LinearRegression()"
   ]
  },
  {
   "cell_type": "code",
   "execution_count": 12,
   "metadata": {},
   "outputs": [
    {
     "data": {
      "text/html": [
       "<style>#sk-container-id-1 {color: black;}#sk-container-id-1 pre{padding: 0;}#sk-container-id-1 div.sk-toggleable {background-color: white;}#sk-container-id-1 label.sk-toggleable__label {cursor: pointer;display: block;width: 100%;margin-bottom: 0;padding: 0.3em;box-sizing: border-box;text-align: center;}#sk-container-id-1 label.sk-toggleable__label-arrow:before {content: \"▸\";float: left;margin-right: 0.25em;color: #696969;}#sk-container-id-1 label.sk-toggleable__label-arrow:hover:before {color: black;}#sk-container-id-1 div.sk-estimator:hover label.sk-toggleable__label-arrow:before {color: black;}#sk-container-id-1 div.sk-toggleable__content {max-height: 0;max-width: 0;overflow: hidden;text-align: left;background-color: #f0f8ff;}#sk-container-id-1 div.sk-toggleable__content pre {margin: 0.2em;color: black;border-radius: 0.25em;background-color: #f0f8ff;}#sk-container-id-1 input.sk-toggleable__control:checked~div.sk-toggleable__content {max-height: 200px;max-width: 100%;overflow: auto;}#sk-container-id-1 input.sk-toggleable__control:checked~label.sk-toggleable__label-arrow:before {content: \"▾\";}#sk-container-id-1 div.sk-estimator input.sk-toggleable__control:checked~label.sk-toggleable__label {background-color: #d4ebff;}#sk-container-id-1 div.sk-label input.sk-toggleable__control:checked~label.sk-toggleable__label {background-color: #d4ebff;}#sk-container-id-1 input.sk-hidden--visually {border: 0;clip: rect(1px 1px 1px 1px);clip: rect(1px, 1px, 1px, 1px);height: 1px;margin: -1px;overflow: hidden;padding: 0;position: absolute;width: 1px;}#sk-container-id-1 div.sk-estimator {font-family: monospace;background-color: #f0f8ff;border: 1px dotted black;border-radius: 0.25em;box-sizing: border-box;margin-bottom: 0.5em;}#sk-container-id-1 div.sk-estimator:hover {background-color: #d4ebff;}#sk-container-id-1 div.sk-parallel-item::after {content: \"\";width: 100%;border-bottom: 1px solid gray;flex-grow: 1;}#sk-container-id-1 div.sk-label:hover label.sk-toggleable__label {background-color: #d4ebff;}#sk-container-id-1 div.sk-serial::before {content: \"\";position: absolute;border-left: 1px solid gray;box-sizing: border-box;top: 0;bottom: 0;left: 50%;z-index: 0;}#sk-container-id-1 div.sk-serial {display: flex;flex-direction: column;align-items: center;background-color: white;padding-right: 0.2em;padding-left: 0.2em;position: relative;}#sk-container-id-1 div.sk-item {position: relative;z-index: 1;}#sk-container-id-1 div.sk-parallel {display: flex;align-items: stretch;justify-content: center;background-color: white;position: relative;}#sk-container-id-1 div.sk-item::before, #sk-container-id-1 div.sk-parallel-item::before {content: \"\";position: absolute;border-left: 1px solid gray;box-sizing: border-box;top: 0;bottom: 0;left: 50%;z-index: -1;}#sk-container-id-1 div.sk-parallel-item {display: flex;flex-direction: column;z-index: 1;position: relative;background-color: white;}#sk-container-id-1 div.sk-parallel-item:first-child::after {align-self: flex-end;width: 50%;}#sk-container-id-1 div.sk-parallel-item:last-child::after {align-self: flex-start;width: 50%;}#sk-container-id-1 div.sk-parallel-item:only-child::after {width: 0;}#sk-container-id-1 div.sk-dashed-wrapped {border: 1px dashed gray;margin: 0 0.4em 0.5em 0.4em;box-sizing: border-box;padding-bottom: 0.4em;background-color: white;}#sk-container-id-1 div.sk-label label {font-family: monospace;font-weight: bold;display: inline-block;line-height: 1.2em;}#sk-container-id-1 div.sk-label-container {text-align: center;}#sk-container-id-1 div.sk-container {/* jupyter's `normalize.less` sets `[hidden] { display: none; }` but bootstrap.min.css set `[hidden] { display: none !important; }` so we also need the `!important` here to be able to override the default hidden behavior on the sphinx rendered scikit-learn.org. See: https://github.com/scikit-learn/scikit-learn/issues/21755 */display: inline-block !important;position: relative;}#sk-container-id-1 div.sk-text-repr-fallback {display: none;}</style><div id=\"sk-container-id-1\" class=\"sk-top-container\"><div class=\"sk-text-repr-fallback\"><pre>LinearRegression()</pre><b>In a Jupyter environment, please rerun this cell to show the HTML representation or trust the notebook. <br />On GitHub, the HTML representation is unable to render, please try loading this page with nbviewer.org.</b></div><div class=\"sk-container\" hidden><div class=\"sk-item\"><div class=\"sk-estimator sk-toggleable\"><input class=\"sk-toggleable__control sk-hidden--visually\" id=\"sk-estimator-id-1\" type=\"checkbox\" checked><label for=\"sk-estimator-id-1\" class=\"sk-toggleable__label sk-toggleable__label-arrow\">LinearRegression</label><div class=\"sk-toggleable__content\"><pre>LinearRegression()</pre></div></div></div></div></div>"
      ],
      "text/plain": [
       "LinearRegression()"
      ]
     },
     "execution_count": 12,
     "metadata": {},
     "output_type": "execute_result"
    }
   ],
   "source": [
    "model.fit(X_Train, Y_Train)"
   ]
  },
  {
   "cell_type": "code",
   "execution_count": 13,
   "metadata": {},
   "outputs": [],
   "source": [
    "Y_pred = model.predict(X_Test)"
   ]
  },
  {
   "cell_type": "code",
   "execution_count": 14,
   "metadata": {},
   "outputs": [
    {
     "name": "stdout",
     "output_type": "stream",
     "text": [
      "Coefficients:  [ 0.45258115 -0.26698248 -0.01605537  0.12374686  0.05694418  0.6460289 ]\n",
      "Intercept:  25.5729343555995\n",
      "Mean squared error (MSE): 0.95\n",
      "Coefficients of determination (R^2):  0.95\n"
     ]
    }
   ],
   "source": [
    "print('Coefficients: ', model.coef_)\n",
    "print('Intercept: ', model.intercept_)\n",
    "print('Mean squared error (MSE): %.2f' % r2_score(Y_Test, Y_pred))\n",
    "\n",
    "print('Coefficients of determination (R^2):  %.2f' % r2_score(Y_Test, Y_pred))\n"
   ]
  },
  {
   "cell_type": "code",
   "execution_count": 15,
   "metadata": {},
   "outputs": [
    {
     "data": {
      "text/plain": [
       "<Axes: xlabel='SMA #1'>"
      ]
     },
     "execution_count": 15,
     "metadata": {},
     "output_type": "execute_result"
    },
    {
     "data": {
      "image/png": "[encoded data removed]",
      "text/plain": [
       "<Figure size 640x480 with 1 Axes>"
      ]
     },
     "metadata": {},
     "output_type": "display_data"
    }
   ],
   "source": [
    "#sns.scatterplot(x = Y_Test, y = Y_pred)"
   ]
  },
  {
   "cell_type": "code",
   "execution_count": 16,
   "metadata": {},
   "outputs": [
    {
     "data": {
      "text/plain": [
       "<Axes: xlabel='SMA #1'>"
      ]
     },
     "execution_count": 16,
     "metadata": {},
     "output_type": "execute_result"
    },
    {
     "data": {
      "image/png": "[encoded data removed]",
      "text/plain": [
       "<Figure size 640x480 with 1 Axes>"
      ]
     },
     "metadata": {},
     "output_type": "display_data"
    }
   ],
   "source": [
    "#sns.scatterplot(x = Y_Test, y = Y_pred, marker = '+')"
   ]
  },
  {
   "cell_type": "code",
   "execution_count": 17,
   "metadata": {},
   "outputs": [
    {
     "data": {
      "text/plain": [
       "<Axes: xlabel='SMA #1'>"
      ]
     },
     "execution_count": 17,
     "metadata": {},
     "output_type": "execute_result"
    },
    {
     "data": {
      "image/png": "[encoded data removed]",
      "text/plain": [
       "<Figure size 640x480 with 1 Axes>"
      ]
     },
     "metadata": {},
     "output_type": "display_data"
    }
   ],
   "source": [
    "#sns.scatterplot(x = Y_Test, y = Y_pred, alpha = .2)"
   ]
  },
  {
   "cell_type": "code",
   "execution_count": 18,
   "metadata": {},
   "outputs": [
    {
     "data": {
      "text/plain": [
       "\"\\nTO DO:\\n<COMPLETED>\\nWithin block 5 we will begin by making this model more flexible. To do this we will need to use the indexes of the data instead of hardcoding the title of the columns.\\nTo complete this we will need to run the a for loop locating the index found based on our \\nforwardFeatureSelection.k_feature_idx_ and saving it allowing for any data to be imported and used. \\n<NOT DONE>\\nNeed to deploy and fine tune if information isn't accurate. \\n\""
      ]
     },
     "execution_count": 18,
     "metadata": {},
     "output_type": "execute_result"
    }
   ],
   "source": [
    "\n",
    "\"\"\"\n",
    "TO DO:\n",
    "<COMPLETED>\n",
    "Within block 5 we will begin by making this model more flexible. To do this we will need to use the indexes of the data instead of hardcoding the title of the columns.\n",
    "To complete this we will need to run the a for loop locating the index found based on our \n",
    "forwardFeatureSelection.k_feature_idx_ and saving it allowing for any data to be imported and used. \n",
    "<NOT DONE>\n",
    "Need to deploy and fine tune if information isn't accurate. \n",
    "\"\"\""
   ]
  },
  {
   "cell_type": "code",
   "execution_count": 19,
   "metadata": {},
   "outputs": [
    {
     "data": {
      "text/plain": [
       "array([5032.31469288, 4932.7334148 , 5023.33181247, 4994.54049561,\n",
       "       4980.48441091, 4917.3711978 , 4882.7834247 , 4907.04368353,\n",
       "       4850.09527516, 4982.46893884, 4941.83225538, 4853.04895667,\n",
       "       5006.93610174, 4991.88761643, 4942.12757376, 4850.01877695,\n",
       "       5025.51006193, 5022.48745533, 4880.63978567, 4982.94987019,\n",
       "       4993.50090667, 4945.64677506, 4931.22519663, 4939.3127421 ,\n",
       "       5011.00971372, 4944.2911514 , 4992.34781179, 4990.60016042,\n",
       "       4893.6428273 , 4946.4939568 , 4963.91193766, 4943.3566222 ,\n",
       "       4849.16764766, 5032.52641476, 4966.22389237, 4939.4844849 ,\n",
       "       5010.03747217, 4895.05112964, 4879.13112868, 4981.082062  ,\n",
       "       4893.54318331, 4991.61742708, 4883.15695543, 4876.23629649,\n",
       "       4894.28316371, 4988.06244052, 4988.79272303, 4849.55265033,\n",
       "       4883.06252131, 4984.55903957, 4891.7841345 , 5022.64039893,\n",
       "       4806.47149876, 4847.24870371, 4967.56292774, 4923.38529721,\n",
       "       4978.54356911, 4848.89408219, 5014.86925968, 4890.23281883])"
      ]
     },
     "execution_count": 19,
     "metadata": {},
     "output_type": "execute_result"
    }
   ],
   "source": [
    "model.predict(X_Test)"
   ]
  },
  {
   "cell_type": "code",
   "execution_count": 23,
   "metadata": {},
   "outputs": [
    {
     "name": "stderr",
     "output_type": "stream",
     "text": [
      "Converting 'SMA_10_prediction' to lowercase: 'sma_10_prediction'.\n"
     ]
    }
   ],
   "source": [
    "saved_model = bentoml.sklearn.save_model(\"SMA_10_prediction\", model)"
   ]
  },
  {
   "cell_type": "code",
   "execution_count": 24,
   "metadata": {},
   "outputs": [
    {
     "name": "stdout",
     "output_type": "stream",
     "text": [
      "Model Saved:  {Model(tag=\"sma_10_prediction:x6ezjfg2qwa4sqfq\", path=\"C:\\Users\\Steven\\bentoml\\models\\sma_10_prediction\\x6ezjfg2qwa4sqfq\\\")}\n"
     ]
    }
   ],
   "source": [
    "print(f'Model Saved: ', {saved_model})"
   ]
  },
  {
   "cell_type": "code",
   "execution_count": null,
   "metadata": {},
   "outputs": [],
   "source": []
  }
 ],
 "metadata": {
  "kernelspec": {
   "display_name": "Python 3",
   "language": "python",
   "name": "python3"
  },
  "language_info": {
   "codemirror_mode": {
    "name": "ipython",
    "version": 3
   },
   "file_extension": ".py",
   "mimetype": "text/x-python",
   "name": "python",
   "nbconvert_exporter": "python",
   "pygments_lexer": "ipython3",
   "version": "3.8.5"
  }
 },
 "nbformat": 4,
 "nbformat_minor": 2
}
